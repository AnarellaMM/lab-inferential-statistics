{
 "cells": [
  {
   "cell_type": "code",
   "execution_count": 1,
   "id": "c3ac3a43-aad6-4e65-b3b5-d62904e27a08",
   "metadata": {},
   "outputs": [],
   "source": [
    "import math"
   ]
  },
  {
   "cell_type": "markdown",
   "id": "69b36581-8747-452d-81b9-87025416ebad",
   "metadata": {},
   "source": [
    "Step 1: Guessing "
   ]
  },
  {
   "cell_type": "markdown",
   "id": "46efab02-b8a8-4e1a-9664-d9da726ffd3c",
   "metadata": {},
   "source": [
    "Guess 1: Maybe the group's blood pressure is about the same as most people, which is 120 mm Hg.\n",
    "Guess 2: But maybe, just maybe, the group's blood pressure is not the same. Maybe it's different in a special way."
   ]
  },
  {
   "cell_type": "markdown",
   "id": "bbb64b15-fadc-4057-aec9-6eb683f8cd81",
   "metadata": {},
   "source": [
    "Step 2:\n",
    "We use a special rule to see if our guesses are right. This rule has two parts:"
   ]
  },
  {
   "cell_type": "markdown",
   "id": "141740d6-ddf1-4d4a-9228-daf17cad7571",
   "metadata": {},
   "source": [
    "Part 1: One guess is that blood pressure is normal.\n",
    "Part 2: The other guess is that it's different."
   ]
  },
  {
   "cell_type": "code",
   "execution_count": 2,
   "id": "5871bd25-1a28-437f-97b2-db0fee276837",
   "metadata": {},
   "outputs": [],
   "source": [
    "# Given values\n",
    "sample_mean = 130.1\n",
    "population_mean = 120\n",
    "sample_std_dev = 21.21\n",
    "sample_size = 100"
   ]
  },
  {
   "cell_type": "code",
   "execution_count": 3,
   "id": "13194101-db25-4450-84d6-14ac485697cf",
   "metadata": {},
   "outputs": [
    {
     "name": "stdout",
     "output_type": "stream",
     "text": [
      "Calculated test statistic: 4.761904761904759\n"
     ]
    }
   ],
   "source": [
    "# Calculate the test statistic\n",
    "test_statistic = (sample_mean - population_mean) / (sample_std_dev / math.sqrt(sample_size))\n",
    "print(\"Calculated test statistic:\", test_statistic)"
   ]
  },
  {
   "cell_type": "markdown",
   "id": "7f8a8cea-0f7d-4a3b-80cb-cabe048d7783",
   "metadata": {},
   "source": [
    "Understanding the Result:\n",
    "\n",
    "We did some math to see if a group's blood pressure was really different from what's normal. We got 4.76190. Imagine this number as a signal. If it's smaller than a certain level, things are okay. If it's bigger, something might be up.\n",
    "\n",
    "In our case, the signal (4.76190) isn't as big as the level it needs to be to worry. So, even though the blood pressure is a bit different, it's not different enough to be a big concern.\n",
    "\n",
    "Think of it like measuring how high a friend can jump. If they jump a bit higher than usual but not over the really high line on the wall, it's all good. Our math helps us decide if things are just a small change or something more important."
   ]
  }
 ],
 "metadata": {
  "kernelspec": {
   "display_name": "Python 3 (ipykernel)",
   "language": "python",
   "name": "python3"
  },
  "language_info": {
   "codemirror_mode": {
    "name": "ipython",
    "version": 3
   },
   "file_extension": ".py",
   "mimetype": "text/x-python",
   "name": "python",
   "nbconvert_exporter": "python",
   "pygments_lexer": "ipython3",
   "version": "3.10.9"
  }
 },
 "nbformat": 4,
 "nbformat_minor": 5
}
